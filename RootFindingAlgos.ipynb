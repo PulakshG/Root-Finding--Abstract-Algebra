{
 "cells": [
  {
   "cell_type": "markdown",
   "metadata": {
    "collapsed": false
   },
   "source": [
    "Prerequisites"
   ]
  },
  {
   "cell_type": "code",
   "execution_count": 1,
   "metadata": {
    "collapsed": false
   },
   "outputs": [
   ],
   "source": [
    "#import pandas as pd\n",
    "import random\n",
    "import time"
   ]
  },
  {
   "cell_type": "code",
   "execution_count": 2,
   "metadata": {
    "collapsed": false
   },
   "outputs": [
   ],
   "source": [
    "primes=[13, 31, 37, 43, 67, 73, 79, 127, 151, 163, 193, 211, 223, 241, 283, 307, 331, 349, 367, 409, 421, 433, 463, 487, 541, 577, 601, 613, 619, 631, 643, 673, 727, 739, 769, 787, 823, 883, 937, 991, 997, 1009, 1021, 1039, 1087, 1093, 1117, 1123, 1201, 1231, 1249, 1291, 1303, 1459, 1471, 1543, 1567, 1579, 1597, 1663, 1693, 1723, 1777]"
   ]
  },
  {
   "cell_type": "code",
   "execution_count": 4,
   "metadata": {
    "collapsed": false
   },
   "outputs": [
    {
     "data": {
      "text/plain": [
       "63"
      ]
     },
     "execution_count": 4,
     "metadata": {
     },
     "output_type": "execute_result"
    }
   ],
   "source": [
    "len(primes)"
   ]
  },
  {
   "cell_type": "code",
   "execution_count": 5,
   "metadata": {
    "collapsed": false
   },
   "outputs": [
   ],
   "source": [
    "data=[]\n",
    "for i in range(len(primes)):\n",
    "    p=primes[i]\n",
    "    for j in range(5):\n",
    "        #p=primes[(i*5)+j]#int(65*random.random())]\n",
    "        F=GF(p)\n",
    "        x=F.random_element()\n",
    "        #print(x^2,p,x)\n",
    "        data.append([x^2,p,x])"
   ]
  },
  {
   "cell_type": "code",
   "execution_count": 6,
   "metadata": {
    "collapsed": false
   },
   "outputs": [
    {
     "data": {
      "text/plain": [
       "[[10, 13, 7],\n",
       " [12, 13, 5],\n",
       " [3, 13, 4],\n",
       " [4, 13, 11],\n",
       " [9, 13, 10],\n",
       " [25, 31, 5],\n",
       " [1, 31, 30],\n",
       " [18, 31, 7],\n",
       " [2, 31, 8],\n",
       " [10, 31, 17],\n",
       " [36, 37, 31],\n",
       " [7, 37, 28],\n",
       " [30, 37, 17],\n",
       " [0, 37, 0],\n",
       " [1, 37, 1],\n",
       " [9, 43, 3],\n",
       " [35, 43, 32],\n",
       " [16, 43, 39],\n",
       " [1, 43, 1],\n",
       " [31, 43, 17],\n",
       " [14, 67, 9],\n",
       " [19, 67, 35],\n",
       " [24, 67, 52],\n",
       " [24, 67, 15],\n",
       " [1, 67, 66],\n",
       " [35, 73, 20],\n",
       " [54, 73, 28],\n",
       " [8, 73, 9],\n",
       " [16, 73, 69],\n",
       " [72, 73, 46],\n",
       " [52, 79, 62],\n",
       " [8, 79, 61],\n",
       " [38, 79, 14],\n",
       " [11, 79, 66],\n",
       " [23, 79, 24],\n",
       " [104, 127, 72],\n",
       " [99, 127, 90],\n",
       " [44, 127, 60],\n",
       " [32, 127, 63],\n",
       " [41, 127, 101],\n",
       " [88, 151, 36],\n",
       " [145, 151, 30],\n",
       " [145, 151, 121],\n",
       " [121, 151, 140],\n",
       " [69, 151, 89],\n",
       " [84, 163, 35],\n",
       " [90, 163, 47],\n",
       " [55, 163, 50],\n",
       " [21, 163, 99],\n",
       " [136, 163, 25],\n",
       " [162, 193, 82],\n",
       " [1, 193, 192],\n",
       " [84, 193, 85],\n",
       " [56, 193, 40],\n",
       " [128, 193, 30],\n",
       " [55, 211, 104],\n",
       " [176, 211, 133],\n",
       " [120, 211, 139],\n",
       " [113, 211, 193],\n",
       " [169, 211, 13],\n",
       " [18, 223, 178],\n",
       " [49, 223, 7],\n",
       " [139, 223, 129],\n",
       " [130, 223, 199],\n",
       " [128, 223, 120],\n",
       " [183, 241, 122],\n",
       " [233, 241, 165],\n",
       " [48, 241, 17],\n",
       " [209, 241, 89],\n",
       " [147, 241, 151],\n",
       " [116, 283, 76],\n",
       " [175, 283, 32],\n",
       " [237, 283, 37],\n",
       " [83, 283, 138],\n",
       " [263, 283, 65],\n",
       " [264, 307, 112],\n",
       " [58, 307, 241],\n",
       " [68, 307, 271],\n",
       " [79, 307, 155],\n",
       " [44, 307, 257],\n",
       " [53, 331, 265],\n",
       " [321, 331, 68],\n",
       " [143, 331, 102],\n",
       " [30, 331, 19],\n",
       " [118, 331, 214],\n",
       " [241, 349, 275],\n",
       " [121, 349, 338],\n",
       " [20, 349, 124],\n",
       " [76, 349, 84],\n",
       " [201, 349, 230],\n",
       " [252, 367, 85],\n",
       " [102, 367, 48],\n",
       " [15, 367, 262],\n",
       " [225, 367, 15],\n",
       " [64, 367, 8],\n",
       " [361, 409, 390],\n",
       " [334, 409, 126],\n",
       " [96, 409, 256],\n",
       " [75, 409, 22],\n",
       " [193, 409, 303],\n",
       " [286, 421, 182],\n",
       " [15, 421, 65],\n",
       " [366, 421, 114],\n",
       " [1, 421, 420],\n",
       " [252, 421, 44],\n",
       " [139, 433, 385],\n",
       " [199, 433, 64],\n",
       " [9, 433, 3],\n",
       " [286, 433, 181],\n",
       " [229, 433, 351],\n",
       " [272, 463, 219],\n",
       " [437, 463, 433],\n",
       " [389, 463, 52],\n",
       " [25, 463, 5],\n",
       " [158, 463, 225],\n",
       " [383, 487, 285],\n",
       " [383, 487, 202],\n",
       " [124, 487, 242],\n",
       " [84, 487, 342],\n",
       " [264, 487, 400],\n",
       " [60, 541, 163],\n",
       " [426, 541, 266],\n",
       " [400, 541, 521],\n",
       " [28, 541, 475],\n",
       " [146, 541, 388],\n",
       " [181, 577, 483],\n",
       " [408, 577, 312],\n",
       " [304, 577, 236],\n",
       " [565, 577, 300],\n",
       " [105, 577, 333],\n",
       " [398, 601, 561],\n",
       " [468, 601, 91],\n",
       " [52, 601, 170],\n",
       " [278, 601, 83],\n",
       " [467, 601, 484],\n",
       " [416, 613, 59],\n",
       " [29, 613, 293],\n",
       " [147, 613, 394],\n",
       " [170, 613, 353],\n",
       " [84, 613, 192],\n",
       " [92, 619, 487],\n",
       " [536, 619, 149],\n",
       " [365, 619, 324],\n",
       " [435, 619, 362],\n",
       " [0, 619, 0],\n",
       " [580, 631, 450],\n",
       " [82, 631, 198],\n",
       " [302, 631, 353],\n",
       " [511, 631, 408],\n",
       " [101, 631, 126],\n",
       " [233, 643, 330],\n",
       " [523, 643, 483],\n",
       " [623, 643, 300],\n",
       " [328, 643, 133],\n",
       " [407, 643, 97],\n",
       " [273, 673, 186],\n",
       " [385, 673, 452],\n",
       " [486, 673, 268],\n",
       " [49, 673, 666],\n",
       " [263, 673, 287],\n",
       " [644, 727, 342],\n",
       " [696, 727, 422],\n",
       " [584, 727, 647],\n",
       " [423, 727, 549],\n",
       " [196, 727, 14],\n",
       " [625, 739, 25],\n",
       " [565, 739, 350],\n",
       " [489, 739, 135],\n",
       " [283, 739, 689],\n",
       " [487, 739, 52],\n",
       " [724, 769, 194],\n",
       " [721, 769, 192],\n",
       " [570, 769, 697],\n",
       " [599, 769, 424],\n",
       " [649, 769, 393],\n",
       " [254, 787, 478],\n",
       " [375, 787, 654],\n",
       " [314, 787, 582],\n",
       " [54, 787, 29],\n",
       " [420, 787, 710],\n",
       " [466, 823, 619],\n",
       " [131, 823, 242],\n",
       " [332, 823, 634],\n",
       " [613, 823, 605],\n",
       " [8, 823, 568],\n",
       " [682, 883, 360],\n",
       " [881, 883, 841],\n",
       " [46, 883, 364],\n",
       " [614, 883, 125],\n",
       " [467, 883, 527],\n",
       " [477, 937, 65],\n",
       " [554, 937, 678],\n",
       " [727, 937, 51],\n",
       " [208, 937, 607],\n",
       " [31, 937, 845],\n",
       " [832, 991, 220],\n",
       " [167, 991, 258],\n",
       " [69, 991, 467],\n",
       " [447, 991, 530],\n",
       " [879, 991, 356],\n",
       " [443, 997, 611],\n",
       " [912, 997, 927],\n",
       " [409, 997, 550],\n",
       " [751, 997, 724],\n",
       " [171, 997, 478],\n",
       " [922, 1009, 561],\n",
       " [666, 1009, 421],\n",
       " [939, 1009, 518],\n",
       " [796, 1009, 600],\n",
       " [692, 1009, 195],\n",
       " [253, 1021, 460],\n",
       " [940, 1021, 718],\n",
       " [213, 1021, 632],\n",
       " [68, 1021, 988],\n",
       " [959, 1021, 291],\n",
       " [149, 1039, 868],\n",
       " [132, 1039, 57],\n",
       " [755, 1039, 706],\n",
       " [182, 1039, 117],\n",
       " [133, 1039, 268],\n",
       " [506, 1087, 449],\n",
       " [1020, 1087, 732],\n",
       " [692, 1087, 564],\n",
       " [362, 1087, 553],\n",
       " [437, 1087, 755],\n",
       " [714, 1093, 354],\n",
       " [839, 1093, 55],\n",
       " [231, 1093, 927],\n",
       " [568, 1093, 775],\n",
       " [556, 1093, 880],\n",
       " [918, 1117, 850],\n",
       " [31, 1117, 408],\n",
       " [300, 1117, 803],\n",
       " [709, 1117, 1003],\n",
       " [828, 1117, 830],\n",
       " [487, 1123, 85],\n",
       " [1109, 1123, 82],\n",
       " [330, 1123, 819],\n",
       " [714, 1123, 326],\n",
       " [999, 1123, 660],\n",
       " [274, 1201, 403],\n",
       " [180, 1201, 271],\n",
       " [1169, 1201, 199],\n",
       " [356, 1201, 253],\n",
       " [913, 1201, 597],\n",
       " [740, 1231, 282],\n",
       " [137, 1231, 300],\n",
       " [1120, 1231, 644],\n",
       " [788, 1231, 492],\n",
       " [779, 1231, 867],\n",
       " [253, 1249, 352],\n",
       " [841, 1249, 1220],\n",
       " [16, 1249, 4],\n",
       " [514, 1249, 1078],\n",
       " [729, 1249, 1222],\n",
       " [709, 1291, 720],\n",
       " [986, 1291, 256],\n",
       " [601, 1291, 84],\n",
       " [612, 1291, 1215],\n",
       " [22, 1291, 339],\n",
       " [51, 1303, 275],\n",
       " [1087, 1303, 509],\n",
       " [564, 1303, 1227],\n",
       " [1071, 1303, 1056],\n",
       " [70, 1303, 508],\n",
       " [502, 1459, 986],\n",
       " [1072, 1459, 834],\n",
       " [1117, 1459, 632],\n",
       " [474, 1459, 1090],\n",
       " [705, 1459, 1270],\n",
       " [939, 1471, 106],\n",
       " [1193, 1471, 248],\n",
       " [477, 1471, 1331],\n",
       " [275, 1471, 168],\n",
       " [844, 1471, 136],\n",
       " [1086, 1543, 1360],\n",
       " [240, 1543, 1127],\n",
       " [468, 1543, 972],\n",
       " [66, 1543, 848],\n",
       " [418, 1543, 1020],\n",
       " [1324, 1567, 237],\n",
       " [1004, 1567, 979],\n",
       " [18, 1567, 1399],\n",
       " [626, 1567, 1028],\n",
       " [437, 1567, 1011],\n",
       " [673, 1579, 1457],\n",
       " [915, 1579, 1001],\n",
       " [408, 1579, 82],\n",
       " [1219, 1579, 874],\n",
       " [320, 1579, 1446],\n",
       " [1218, 1597, 803],\n",
       " [401, 1597, 928],\n",
       " [1208, 1597, 293],\n",
       " [301, 1597, 1199],\n",
       " [1056, 1597, 290],\n",
       " [1025, 1663, 643],\n",
       " [277, 1663, 674],\n",
       " [547, 1663, 940],\n",
       " [1380, 1663, 766],\n",
       " [1615, 1663, 885],\n",
       " [515, 1693, 345],\n",
       " [430, 1693, 557],\n",
       " [926, 1693, 212],\n",
       " [352, 1693, 1028],\n",
       " [1520, 1693, 236],\n",
       " [552, 1723, 690],\n",
       " [573, 1723, 519],\n",
       " [1241, 1723, 1243],\n",
       " [1400, 1723, 431],\n",
       " [1249, 1723, 1083],\n",
       " [453, 1777, 1309],\n",
       " [1253, 1777, 541],\n",
       " [48, 1777, 608],\n",
       " [1704, 1777, 1718],\n",
       " [800, 1777, 449]]"
      ]
     },
     "execution_count": 6,
     "metadata": {
     },
     "output_type": "execute_result"
    }
   ],
   "source": [
    "data"
   ]
  },
  {
   "cell_type": "code",
   "execution_count": 3,
   "metadata": {
    "collapsed": false
   },
   "outputs": [
   ],
   "source": [
    "data=[[10, 13, 7],\n",
    " [12, 13, 5],\n",
    " [3, 13, 4],\n",
    " [4, 13, 11],\n",
    " [9, 13, 10],\n",
    " [25, 31, 5],\n",
    " [1, 31, 30],\n",
    " [18, 31, 7],\n",
    " [2, 31, 8],\n",
    " [10, 31, 17],\n",
    " [36, 37, 31],\n",
    " [7, 37, 28],\n",
    " [30, 37, 17],\n",
    " [0, 37, 0],\n",
    " [1, 37, 1],\n",
    " [9, 43, 3],\n",
    " [35, 43, 32],\n",
    " [16, 43, 39],\n",
    " [1, 43, 1],\n",
    " [31, 43, 17],\n",
    " [14, 67, 9],\n",
    " [19, 67, 35],\n",
    " [24, 67, 52],\n",
    " [24, 67, 15],\n",
    " [1, 67, 66],\n",
    " [35, 73, 20],\n",
    " [54, 73, 28],\n",
    " [8, 73, 9],\n",
    " [16, 73, 69],\n",
    " [72, 73, 46],\n",
    " [52, 79, 62],\n",
    " [8, 79, 61],\n",
    " [38, 79, 14],\n",
    " [11, 79, 66],\n",
    " [23, 79, 24],\n",
    " [104, 127, 72],\n",
    " [99, 127, 90],\n",
    " [44, 127, 60],\n",
    " [32, 127, 63],\n",
    " [41, 127, 101],\n",
    " [88, 151, 36],\n",
    " [145, 151, 30],\n",
    " [145, 151, 121],\n",
    " [121, 151, 140],\n",
    " [69, 151, 89],\n",
    " [84, 163, 35],\n",
    " [90, 163, 47],\n",
    " [55, 163, 50],\n",
    " [21, 163, 99],\n",
    " [136, 163, 25],\n",
    " [162, 193, 82],\n",
    " [1, 193, 192],\n",
    " [84, 193, 85],\n",
    " [56, 193, 40],\n",
    " [128, 193, 30],\n",
    " [55, 211, 104],\n",
    " [176, 211, 133],\n",
    " [120, 211, 139],\n",
    " [113, 211, 193],\n",
    " [169, 211, 13],\n",
    " [18, 223, 178],\n",
    " [49, 223, 7],\n",
    " [139, 223, 129],\n",
    " [130, 223, 199],\n",
    " [128, 223, 120],\n",
    " [183, 241, 122],\n",
    " [233, 241, 165],\n",
    " [48, 241, 17],\n",
    " [209, 241, 89],\n",
    " [147, 241, 151],\n",
    " [116, 283, 76],\n",
    " [175, 283, 32],\n",
    " [237, 283, 37],\n",
    " [83, 283, 138],\n",
    " [263, 283, 65],\n",
    " [264, 307, 112],\n",
    " [58, 307, 241],\n",
    " [68, 307, 271],\n",
    " [79, 307, 155],\n",
    " [44, 307, 257],\n",
    " [53, 331, 265],\n",
    " [321, 331, 68],\n",
    " [143, 331, 102],\n",
    " [30, 331, 19],\n",
    " [118, 331, 214],\n",
    " [241, 349, 275],\n",
    " [121, 349, 338],\n",
    " [20, 349, 124],\n",
    " [76, 349, 84],\n",
    " [201, 349, 230],\n",
    " [252, 367, 85],\n",
    " [102, 367, 48],\n",
    " [15, 367, 262],\n",
    " [225, 367, 15],\n",
    " [64, 367, 8],\n",
    " [361, 409, 390],\n",
    " [334, 409, 126],\n",
    " [96, 409, 256],\n",
    " [75, 409, 22],\n",
    " [193, 409, 303],\n",
    " [286, 421, 182],\n",
    " [15, 421, 65],\n",
    " [366, 421, 114],\n",
    " [1, 421, 420],\n",
    " [252, 421, 44],\n",
    " [139, 433, 385],\n",
    " [199, 433, 64],\n",
    " [9, 433, 3],\n",
    " [286, 433, 181],\n",
    " [229, 433, 351],\n",
    " [272, 463, 219],\n",
    " [437, 463, 433],\n",
    " [389, 463, 52],\n",
    " [25, 463, 5],\n",
    " [158, 463, 225],\n",
    " [383, 487, 285],\n",
    " [383, 487, 202],\n",
    " [124, 487, 242],\n",
    " [84, 487, 342],\n",
    " [264, 487, 400],\n",
    " [60, 541, 163],\n",
    " [426, 541, 266],\n",
    " [400, 541, 521],\n",
    " [28, 541, 475],\n",
    " [146, 541, 388],\n",
    " [181, 577, 483],\n",
    " [408, 577, 312],\n",
    " [304, 577, 236],\n",
    " [565, 577, 300],\n",
    " [105, 577, 333],\n",
    " [398, 601, 561],\n",
    " [468, 601, 91],\n",
    " [52, 601, 170],\n",
    " [278, 601, 83],\n",
    " [467, 601, 484],\n",
    " [416, 613, 59],\n",
    " [29, 613, 293],\n",
    " [147, 613, 394],\n",
    " [170, 613, 353],\n",
    " [84, 613, 192],\n",
    " [92, 619, 487],\n",
    " [536, 619, 149],\n",
    " [365, 619, 324],\n",
    " [435, 619, 362],\n",
    " [0, 619, 0],\n",
    " [580, 631, 450],\n",
    " [82, 631, 198],\n",
    " [302, 631, 353],\n",
    " [511, 631, 408],\n",
    " [101, 631, 126],\n",
    " [233, 643, 330],\n",
    " [523, 643, 483],\n",
    " [623, 643, 300],\n",
    " [328, 643, 133],\n",
    " [407, 643, 97],\n",
    " [273, 673, 186],\n",
    " [385, 673, 452],\n",
    " [486, 673, 268],\n",
    " [49, 673, 666],\n",
    " [263, 673, 287],\n",
    " [644, 727, 342],\n",
    " [696, 727, 422],\n",
    " [584, 727, 647],\n",
    " [423, 727, 549],\n",
    " [196, 727, 14],\n",
    " [625, 739, 25],\n",
    " [565, 739, 350],\n",
    " [489, 739, 135],\n",
    " [283, 739, 689],\n",
    " [487, 739, 52],\n",
    " [724, 769, 194],\n",
    " [721, 769, 192],\n",
    " [570, 769, 697],\n",
    " [599, 769, 424],\n",
    " [649, 769, 393],\n",
    " [254, 787, 478],\n",
    " [375, 787, 654],\n",
    " [314, 787, 582],\n",
    " [54, 787, 29],\n",
    " [420, 787, 710],\n",
    " [466, 823, 619],\n",
    " [131, 823, 242],\n",
    " [332, 823, 634],\n",
    " [613, 823, 605],\n",
    " [8, 823, 568],\n",
    " [682, 883, 360],\n",
    " [881, 883, 841],\n",
    " [46, 883, 364],\n",
    " [614, 883, 125],\n",
    " [467, 883, 527],\n",
    " [477, 937, 65],\n",
    " [554, 937, 678],\n",
    " [727, 937, 51],\n",
    " [208, 937, 607],\n",
    " [31, 937, 845],\n",
    " [832, 991, 220],\n",
    " [167, 991, 258],\n",
    " [69, 991, 467],\n",
    " [447, 991, 530],\n",
    " [879, 991, 356],\n",
    " [443, 997, 611],\n",
    " [912, 997, 927],\n",
    " [409, 997, 550],\n",
    " [751, 997, 724],\n",
    " [171, 997, 478],\n",
    " [922, 1009, 561],\n",
    " [666, 1009, 421],\n",
    " [939, 1009, 518],\n",
    " [796, 1009, 600],\n",
    " [692, 1009, 195],\n",
    " [253, 1021, 460],\n",
    " [940, 1021, 718],\n",
    " [213, 1021, 632],\n",
    " [68, 1021, 988],\n",
    " [959, 1021, 291],\n",
    " [149, 1039, 868],\n",
    " [132, 1039, 57],\n",
    " [755, 1039, 706],\n",
    " [182, 1039, 117],\n",
    " [133, 1039, 268],\n",
    " [506, 1087, 449],\n",
    " [1020, 1087, 732],\n",
    " [692, 1087, 564],\n",
    " [362, 1087, 553],\n",
    " [437, 1087, 755],\n",
    " [714, 1093, 354],\n",
    " [839, 1093, 55],\n",
    " [231, 1093, 927],\n",
    " [568, 1093, 775],\n",
    " [556, 1093, 880],\n",
    " [918, 1117, 850],\n",
    " [31, 1117, 408],\n",
    " [300, 1117, 803],\n",
    " [709, 1117, 1003],\n",
    " [828, 1117, 830],\n",
    " [487, 1123, 85],\n",
    " [1109, 1123, 82],\n",
    " [330, 1123, 819],\n",
    " [714, 1123, 326],\n",
    " [999, 1123, 660],\n",
    " [274, 1201, 403],\n",
    " [180, 1201, 271],\n",
    " [1169, 1201, 199],\n",
    " [356, 1201, 253],\n",
    " [913, 1201, 597],\n",
    " [740, 1231, 282],\n",
    " [137, 1231, 300],\n",
    " [1120, 1231, 644],\n",
    " [788, 1231, 492],\n",
    " [779, 1231, 867],\n",
    " [253, 1249, 352],\n",
    " [841, 1249, 1220],\n",
    " [16, 1249, 4],\n",
    " [514, 1249, 1078],\n",
    " [729, 1249, 1222],\n",
    " [709, 1291, 720],\n",
    " [986, 1291, 256],\n",
    " [601, 1291, 84],\n",
    " [612, 1291, 1215],\n",
    " [22, 1291, 339],\n",
    " [51, 1303, 275],\n",
    " [1087, 1303, 509],\n",
    " [564, 1303, 1227],\n",
    " [1071, 1303, 1056],\n",
    " [70, 1303, 508],\n",
    " [502, 1459, 986],\n",
    " [1072, 1459, 834],\n",
    " [1117, 1459, 632],\n",
    " [474, 1459, 1090],\n",
    " [705, 1459, 1270],\n",
    " [939, 1471, 106],\n",
    " [1193, 1471, 248],\n",
    " [477, 1471, 1331],\n",
    " [275, 1471, 168],\n",
    " [844, 1471, 136],\n",
    " [1086, 1543, 1360],\n",
    " [240, 1543, 1127],\n",
    " [468, 1543, 972],\n",
    " [66, 1543, 848],\n",
    " [418, 1543, 1020],\n",
    " [1324, 1567, 237],\n",
    " [1004, 1567, 979],\n",
    " [18, 1567, 1399],\n",
    " [626, 1567, 1028],\n",
    " [437, 1567, 1011],\n",
    " [673, 1579, 1457],\n",
    " [915, 1579, 1001],\n",
    " [408, 1579, 82],\n",
    " [1219, 1579, 874],\n",
    " [320, 1579, 1446],\n",
    " [1218, 1597, 803],\n",
    " [401, 1597, 928],\n",
    " [1208, 1597, 293],\n",
    " [301, 1597, 1199],\n",
    " [1056, 1597, 290],\n",
    " [1025, 1663, 643],\n",
    " [277, 1663, 674],\n",
    " [547, 1663, 940],\n",
    " [1380, 1663, 766],\n",
    " [1615, 1663, 885],\n",
    " [515, 1693, 345],\n",
    " [430, 1693, 557],\n",
    " [926, 1693, 212],\n",
    " [352, 1693, 1028],\n",
    " [1520, 1693, 236],\n",
    " [552, 1723, 690],\n",
    " [573, 1723, 519],\n",
    " [1241, 1723, 1243],\n",
    " [1400, 1723, 431],\n",
    " [1249, 1723, 1083],\n",
    " [453, 1777, 1309],\n",
    " [1253, 1777, 541],\n",
    " [48, 1777, 608],\n",
    " [1704, 1777, 1718],\n",
    " [800, 1777, 449]]"
   ]
  },
  {
   "cell_type": "markdown",
   "metadata": {
    "collapsed": false
   },
   "source": [
    "Cipolla's Algorithm"
   ]
  },
  {
   "cell_type": "code",
   "execution_count": 4,
   "metadata": {
    "collapsed": false
   },
   "outputs": [
   ],
   "source": [
    "def isNonResidue(n,p):\n",
    "    if (n^((p-1)/2))%p == 1:\n",
    "        return False\n",
    "    elif (n%p!=0):\n",
    "        return True"
   ]
  },
  {
   "cell_type": "code",
   "execution_count": 0,
   "metadata": {
    "collapsed": false
   },
   "outputs": [
   ],
   "source": [
   ]
  },
  {
   "cell_type": "code",
   "execution_count": 5,
   "metadata": {
    "collapsed": false
   },
   "outputs": [
   ],
   "source": [
    "def cipolla(n,p):\n",
    "    F=GF(p)\n",
    "    if isNonResidue(n,p):\n",
    "        return [False,0]\n",
    "    a=F.random_element()\n",
    "    while(not isNonResidue(((a^2)-n),p)):\n",
    "        a=F.random_element()\n",
    "    return [True,((a+sqrt((a^2)-n))^((p+1)/2))]"
   ]
  },
  {
   "cell_type": "code",
   "execution_count": 6,
   "metadata": {
    "collapsed": false
   },
   "outputs": [
    {
     "name": "stdout",
     "output_type": "stream",
     "text": [
      "[True, 7]\n"
     ]
    }
   ],
   "source": [
    "print(cipolla(5,11))"
   ]
  },
  {
   "cell_type": "code",
   "execution_count": 0,
   "metadata": {
    "collapsed": false
   },
   "outputs": [
   ],
   "source": [
    "F=GF(p)"
   ]
  },
  {
   "cell_type": "code",
   "execution_count": 14,
   "metadata": {
    "collapsed": false
   },
   "outputs": [
   ],
   "source": [
    "#RUN HERE CIPOLLA\n",
    "time_cipolla=[]\n",
    "for i in range(len(data)):\n",
    "    q=generateNonResidue(data[i][1])\n",
    "    #print(data[i])\n",
    "    \n",
    "    begin=time.time()\n",
    "    #for j in range(7):\n",
    "    r=ts(data[i][0],data[i][1],q)\n",
    "    #print(\" \",j,r)\n",
    "    if (r[0]==True):\n",
    "        root=r[1]\n",
    "        if root*root%data[i][1] != data[i][0]:\n",
    "            print(data[i],r,\"aaaaaa\")\n",
    "            #break\n",
    "    \n",
    "    end=time.time()\n",
    "    #print(\"   time =\",end-begin)\n",
    "    time_cipolla.append(end-begin)"
   ]
  },
  {
   "cell_type": "markdown",
   "metadata": {
    "collapsed": false
   },
   "source": [
    "Tonelli-Shanks Algorithm"
   ]
  },
  {
   "cell_type": "code",
   "execution_count": 8,
   "metadata": {
    "collapsed": false
   },
   "outputs": [
   ],
   "source": [
    "def findmk(p_1):\n",
    "    n=0\n",
    "    k=p_1\n",
    "    while(k%2==0):\n",
    "        n+=1\n",
    "        k/=2\n",
    "    return n,k"
   ]
  },
  {
   "cell_type": "code",
   "execution_count": 9,
   "metadata": {
    "collapsed": false
   },
   "outputs": [
   ],
   "source": [
    "def isNonResidue(n,p):\n",
    "    F=GF(p)\n",
    "    a=F(n)\n",
    "    if (a^((p-1)/2)) == 1:\n",
    "        return False\n",
    "    elif (a!=0):\n",
    "        return True"
   ]
  },
  {
   "cell_type": "code",
   "execution_count": 10,
   "metadata": {
    "collapsed": false
   },
   "outputs": [
   ],
   "source": [
    "def ts(n,p,q):\n",
    "    if isNonResidue(n,p):\n",
    "        return [False,0]\n",
    "    if not isNonResidue(q,p):\n",
    "        return [False,0]\n",
    "    m,k=findmk(p-1)\n",
    "    #\n",
    "    #print(m,k)\n",
    "    F=GF(p)\n",
    "    a = F(n)\n",
    "    t=(a^((k+1)/2))\n",
    "    r=a^k\n",
    "    #print(t,r)\n",
    "    #print(r.type())\n",
    "    while(True):\n",
    "        i=0\n",
    "        tmp_r=r\n",
    "        for j in range(p):\n",
    "            if tmp_r==1:\n",
    "                #print(\"inside\")\n",
    "                i=j\n",
    "                break\n",
    "            else:\n",
    "                tmp_r*=tmp_r\n",
    "        #\n",
    "        #print(i)\n",
    "        if i==0:\n",
    "            return [True,t%p]\n",
    "        else:\n",
    "            u=q^(k*(2^(m-i-1)))%p\n",
    "            t=t*u\n",
    "            r=r*u^2"
   ]
  },
  {
   "cell_type": "code",
   "execution_count": 3,
   "metadata": {
    "collapsed": false
   },
   "outputs": [
    {
     "name": "stdout",
     "output_type": "stream",
     "text": [
      "12\n"
     ]
    }
   ],
   "source": [
    "#Ignore Rough\n",
    "p=13\n",
    "F=GF(p)\n",
    "a = F(5)\n",
    "k=3\n",
    "t=(a^((k+1)/2))\n",
    "print(t)"
   ]
  },
  {
   "cell_type": "code",
   "execution_count": 11,
   "metadata": {
    "collapsed": false
   },
   "outputs": [
   ],
   "source": [
    "def generateNonResidue(p):\n",
    "    F=GF(p)\n",
    "    q=F.random_element()\n",
    "    while (not isNonResidue(q,p)):\n",
    "        q = F.random_element()\n",
    "    return q\n"
   ]
  },
  {
   "cell_type": "code",
   "execution_count": 34,
   "metadata": {
    "collapsed": false,
    "scrolled": true
   },
   "outputs": [
    {
     "name": "stdout",
     "output_type": "stream",
     "text": [
      "[True, 7]\n"
     ]
    }
   ],
   "source": [
    "print(ts(10, 13, generateNonResidue(13)))"
   ]
  },
  {
   "cell_type": "code",
   "execution_count": 15,
   "metadata": {
    "collapsed": false
   },
   "outputs": [
   ],
   "source": [
    "#RUN HERE TONELLI SHANKS\n",
    "time_tonelli=[]\n",
    "for i in range(len(data)):\n",
    "    q=generateNonResidue(data[i][1])\n",
    "    #print(data[i])\n",
    "    \n",
    "    begin=time.time()\n",
    "    #for j in range(7):\n",
    "    r=ts(data[i][0],data[i][1],q)\n",
    "    #print(\" \",j,r)\n",
    "    if (r[0]==True):\n",
    "            #root=-1*r[1](0)\n",
    "        root=r[1]\n",
    "            #print(\"true\",root)\n",
    "            #if (data[i][2]!=root or data[i][2]!=-1*root):\n",
    "        if root*root%data[i][1] != data[i][0]:\n",
    "            print(data[i],r,\"aaaaaa\")\n",
    "            #break\n",
    "    \n",
    "    end=time.time()\n",
    "    #print(\"   time =\",end-begin)\n",
    "    time_tonelli.append(end-begin)"
   ]
  },
  {
   "cell_type": "markdown",
   "metadata": {
    "collapsed": false
   },
   "source": [
    "Berlekamp's Algorithm"
   ]
  },
  {
   "cell_type": "code",
   "execution_count": 17,
   "metadata": {
    "collapsed": false
   },
   "outputs": [
   ],
   "source": [
    "def gcdWithQ(f,p):\n",
    "    F=GF(p)\n",
    "    R.<x>=PolynomialRing(F)\n",
    "    return gcd(f,x^((p-1)/2)-1)"
   ]
  },
  {
   "cell_type": "code",
   "execution_count": 18,
   "metadata": {
    "collapsed": false
   },
   "outputs": [
   ],
   "source": [
    "def berlekamp(f,p):\n",
    "    g1=gcdWithQ(f,p)\n",
    "    #print(\"g1=\",g1)\n",
    "    if g1!=1 and g1!=f and g1.degree()!=2:\n",
    "        return [True,g1]\n",
    "    else:\n",
    "        return [False,0]"
   ]
  },
  {
   "cell_type": "code",
   "execution_count": 23,
   "metadata": {
    "collapsed": false
   },
   "outputs": [
   ],
   "source": [
    "p=19; F=GF(p); R.<x>=PolynomialRing(F); f = x^2-4"
   ]
  },
  {
   "cell_type": "code",
   "execution_count": 19,
   "metadata": {
    "collapsed": false
   },
   "outputs": [
   ],
   "source": [
    "def berlekamp_helper(n,p):\n",
    "    k=7 #accuracy > 99 percent since 1/2^7 < 1 percent\n",
    "    #print(f)\n",
    "    c=1\n",
    "    d=0\n",
    "    F=GF(p); R.<x>=PolynomialRing(F); f=x^2-n\n",
    "    #print(f)\n",
    "    for i in range(k):\n",
    "        root=berlekamp(f,p)\n",
    "        #print(\"ppppp\",c,d,root)\n",
    "        f=f((x-d)/c)\n",
    "        #print(i,root[0],root[1])\n",
    "        if root[0]==True:\n",
    "            r=c*root[1]((x-d)/c)\n",
    "            #print(\"ppppp\",c,d,root,r)\n",
    "            return [root[0],r(0)]\n",
    "            break\n",
    "        else:\n",
    "            c=F.random_element()\n",
    "            while(c==0):\n",
    "                c=F.random_element()\n",
    "            d=F.random_element()\n",
    "            #print(\"c=\",c,\",d=\",d)\n",
    "            #print(\"here is f\",f)\n",
    "            f=f(c*x+d)\n",
    "            #print(\"here is f(c*x+d)\",f)\n",
    "    return [False, 0]"
   ]
  },
  {
   "cell_type": "code",
   "execution_count": 78,
   "metadata": {
    "collapsed": false
   },
   "outputs": [
    {
     "name": "stdout",
     "output_type": "stream",
     "text": [
      "10 13 7 [True, 6]\n"
     ]
    }
   ],
   "source": [
    "#ignore rough\n",
    "n,p,x=10,13,7\n",
    "r=berlekamp_helper(n,p)\n",
    "print(n,p,x,r)"
   ]
  },
  {
   "cell_type": "code",
   "execution_count": 20,
   "metadata": {
    "collapsed": false
   },
   "outputs": [
   ],
   "source": [
    "#RUN HERE BERLEKAMP\n",
    "time_berlekamp=[]\n",
    "for i in range(len(data)):\n",
    "    #print(data[i])\n",
    "    p=data[i][1]\n",
    "    #F=GF(p)\n",
    "    #R.<x>=PolynomialRing(F)\n",
    "    #f = x^2-data[i][0]\n",
    "    #remf=R.quotient(f)\n",
    "    begin=time.time()\n",
    "    r=berlekamp_helper(data[i][0],data[i][1])\n",
    "    if (r[0]==True):\n",
    "            #print(\"true\",r)\n",
    "            root=r[1]\n",
    "            #if (data[i][2]!=root or data[i][2]!=-1*root):\n",
    "            if root*root != data[i][0]:\n",
    "                print(data[i],r,\"aaaaaa\")\n",
    "    end=time.time()\n",
    "    #print(\"   time =\",end-begin)\n",
    "    time_berlekamp.append(end-begin)"
   ]
  },
  {
   "cell_type": "markdown",
   "metadata": {
    "collapsed": false
   },
   "source": [
    "Cantor Zassenhaus Algorithm"
   ]
  },
  {
   "cell_type": "code",
   "execution_count": 21,
   "metadata": {
    "collapsed": false
   },
   "outputs": [
   ],
   "source": [
    "def cz(f,d=1):\n",
    "    #Step 1\n",
    "    a=R.random_element()\n",
    "    #print(\"a\",a)\n",
    "    if a in F:\n",
    "        return [False,0]\n",
    "    #Step 2\n",
    "    g1=gcd(a,f)\n",
    "    if g1!=1 and g1!=f:\n",
    "        return [True,g1]\n",
    "    #Step 3\n",
    "    b=remf(a^(((p^d)-1)//2))\n",
    "    #Step 4\n",
    "    g2=gcd((b-1).lift(),f)\n",
    "    if g2!=1 and g2!=f:\n",
    "        return [True,g2]\n",
    "    else:\n",
    "        return [False,0]"
   ]
  },
  {
   "cell_type": "code",
   "execution_count": 44,
   "metadata": {
    "collapsed": false
   },
   "outputs": [
   ],
   "source": [
    "p=19; F=GF(p); R.<x>=PolynomialRing(F); f = x^2"
   ]
  },
  {
   "cell_type": "code",
   "execution_count": 23,
   "metadata": {
    "collapsed": false
   },
   "outputs": [
   ],
   "source": [
    "#RUN HERE CZ\n",
    "time_cz=[]\n",
    "for i in range(len(data)):\n",
    "    #print(data[i])\n",
    "    p=data[i][1]\n",
    "    F=GF(p)\n",
    "    R.<x>=PolynomialRing(F)\n",
    "    f = x^2-data[i][0]\n",
    "    remf=R.quotient(f)\n",
    "    begin=time.time()\n",
    "    for j in range(7):\n",
    "        r=cz(f)\n",
    "        #print(\" \",j,r)\n",
    "        if (r[0]==True):\n",
    "            root=-1*r[1](0)\n",
    "            #print(\"true\",root)\n",
    "            #if (data[i][2]!=root or data[i][2]!=-1*root):\n",
    "            if root*root != data[i][0]:\n",
    "                print(data[i],r,\"aaaaaa\")\n",
    "            break\n",
    "    end=time.time()\n",
    "    #print(\"   time =\",end-begin)\n",
    "    time_cz.append(end-begin)"
   ]
  },
  {
   "cell_type": "markdown",
   "metadata": {
    "collapsed": false
   },
   "source": [
    "Graphs"
   ]
  },
  {
   "cell_type": "code",
   "execution_count": 26,
   "metadata": {
    "collapsed": false
   },
   "outputs": [
   ],
   "source": [
    "#averaging time for each prime\n",
    "avgtime_berlekamp=[]\n",
    "avgtime_cz=[]\n",
    "avgtime_tonelli=[]\n",
    "avgtime_cipolla=[]\n",
    "for i in range(len(primes)):\n",
    "    avgtime_berlekamp_j=0\n",
    "    avgtime_cz_j=0\n",
    "    avgtime_tonelli_j=0\n",
    "    avgtime_cipolla_j=0\n",
    "    for j in range(5):\n",
    "        index=i*5+j\n",
    "        avgtime_berlekamp_j+=time_berlekamp[index]\n",
    "        avgtime_cz_j+=time_cz[index]\n",
    "        avgtime_tonelli_j+=time_tonelli[index]\n",
    "        avgtime_cipolla_j+=time_cipolla[index]\n",
    "        \n",
    "    avgtime_berlekamp_j/=5\n",
    "    avgtime_cz_j/=5\n",
    "    avgtime_tonelli_j/=5\n",
    "    avgtime_cipolla_j/=5\n",
    "    \n",
    "    avgtime_berlekamp.append(avgtime_berlekamp_j)\n",
    "    avgtime_cz.append(avgtime_cz_j)\n",
    "    avgtime_tonelli.append(avgtime_tonelli_j)\n",
    "    avgtime_cipolla.append(avgtime_cipolla_j)"
   ]
  },
  {
   "cell_type": "code",
   "execution_count": 32,
   "metadata": {
    "collapsed": false
   },
   "outputs": [
    {
     "data": {
      "text/plain": [
       "63"
      ]
     },
     "execution_count": 32,
     "metadata": {
     },
     "output_type": "execute_result"
    }
   ],
   "source": [
    "len(avgtime_cz)"
   ]
  },
  {
   "cell_type": "code",
   "execution_count": 33,
   "metadata": {
    "collapsed": false
   },
   "outputs": [
    {
     "data": {
      "image/png": "[encoded data removed]",
      "text/plain": [
       "Graphics object consisting of 4 graphics primitives"
      ]
     },
     "execution_count": 33,
     "metadata": {
     },
     "output_type": "execute_result"
    }
   ],
   "source": [
    "datapoints_berlekamp = zip(primes,avgtime_berlekamp)#, avgtime_cz)    # The \"zip\" command creates matched pairs from 2 separate lists.\n",
    "datapoints_cz = zip(primes,avgtime_cz)\n",
    "datapoints_ts = zip(primes,avgtime_tonelli)\n",
    "datapoints_cipolla = zip(primes,avgtime_cipolla)\n",
    "#datapoints#\n",
    "\n",
    "cig=point(datapoints_cipolla, axes_labels=['$p$', '$Time$'], pointsize=30, color='green', legend_label='Cipolla')\n",
    "tsg=point(datapoints_ts, axes_labels=['$p$', '$Time$'], pointsize=30, color='yellow', legend_label='Tonelli Shanks')\n",
    "bag=point(datapoints_berlekamp, axes_labels=['$p$', '$Time$'], pointsize=30, color='blue', legend_label='Berlekamp')\n",
    "czg=point(datapoints_cz, axes_labels=['$p$', '$Time$'], pointsize=30, color='red', legend_label='Cantor Zassenhaus')\n",
    "\n",
    "show(bag+czg+tsg+cig)"
   ]
  },
  {
   "cell_type": "code",
   "execution_count": 41,
   "metadata": {
    "collapsed": false
   },
   "outputs": [
    {
     "data": {
      "image/png": "[encoded data removed]",
      "text/plain": [
       "Graphics object consisting of 4 graphics primitives"
      ]
     },
     "execution_count": 41,
     "metadata": {
     },
     "output_type": "execute_result"
    }
   ],
   "source": [
    "datapoints_berlekamp = zip(primes,avgtime_berlekamp)#, avgtime_cz)    # The \"zip\" command creates matched pairs from 2 separate lists.\n",
    "datapoints_cz = zip(primes,avgtime_cz)\n",
    "datapoints_ts = zip(primes,avgtime_tonelli)\n",
    "datapoints_cipolla = zip(primes,avgtime_cipolla)\n",
    "#datapoints#\n",
    "\n",
    "cilg=point(datapoints_cipolla, axes_labels=['$p$', '$Time$'], color='green', legend_label='Cipolla')\n",
    "tslg=line(datapoints_ts, axes_labels=['$p$', '$Time$'], color='yellow', legend_label='Tonelli Shanks')\n",
    "balg=line(datapoints_berlekamp, axes_labels=['$p$', '$Time$'], color='blue', legend_label='Berlekamp')\n",
    "czlg=line(datapoints_cz, axes_labels=['$p$', '$Time$'], color='red', legend_label='Cantor Zassenhaus')\n",
    "show(balg+czlg+tslg+cilg)"
   ]
  },
  {
   "cell_type": "code",
   "execution_count": 0,
   "metadata": {
    "collapsed": false
   },
   "outputs": [
   ],
   "source": [
   ]
  },
  {
   "cell_type": "code",
   "execution_count": 0,
   "metadata": {
    "collapsed": false
   },
   "outputs": [
   ],
   "source": [
   ]
  }
 ],
 "metadata": {
  "kernelspec": {
   "display_name": "SageMath 9.2",
   "language": "sagemath",
   "metadata": {
    "cocalc": {
     "description": "Open-source mathematical software system",
     "priority": 1,
     "url": "https://www.sagemath.org/"
    }
   },
   "name": "sage-9.2",
   "resource_dir": "/ext/jupyter/kernels/sage-9.2"
  },
  "language_info": {
   "codemirror_mode": {
    "name": "ipython",
    "version": 3
   },
   "file_extension": ".py",
   "mimetype": "text/x-python",
   "name": "python",
   "nbconvert_exporter": "python",
   "pygments_lexer": "ipython3",
   "version": "3.8.5"
  }
 },
 "nbformat": 4,
 "nbformat_minor": 4
}